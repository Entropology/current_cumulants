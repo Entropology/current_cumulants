{
 "cells": [
  {
   "cell_type": "markdown",
   "metadata": {},
   "source": [
    "# How to analyse your favourite dynamically reversible Markov model\n",
    "\n",
    "This notebooks contains a simple example of how to analyse fluctuating currents in dynamically reversible Markov models.\n",
    "\n",
    "**NOTE:** This script works with python3, but possibly not with python2 anymore.\n",
    "\n",
    "## References\n",
    "\n",
    "[1] Fluctuating Currents in Stochastic Thermodynamics I. Gauge Invariance of Asymptotic Statistics. [Wachtel, Altaner and Vollmer (2015)](http://arxiv.org/abs/1407.2065)\n",
    "\n",
    "[2] Fluctuating Currents in Stochastic Thermodynamics II. Energy Conversion and Nonequilibrium Response in Kinesin Models. [Altaner, Wachtel and Vollmer (2015)](http://arxiv.org/abs/1504.03648)\n"
   ]
  },
  {
   "cell_type": "markdown",
   "metadata": {},
   "source": [
    "## Set-up jupyter (ipython-notebook) and sympy libraries"
   ]
  },
  {
   "cell_type": "code",
   "execution_count": null,
   "metadata": {
    "collapsed": false
   },
   "outputs": [],
   "source": [
    "# inline plotting/interaction\n",
    "%pylab inline\n",
    "# replace the line above with the line below for command line scripts:\n",
    "# from pylab import *\n",
    "\n",
    "from sympy import * # symbolic python\n",
    "init_printing() # pretty printing\n",
    "\n",
    "import numpy as np # numeric python\n",
    "\n",
    "import time # timing, for performance monitoring\n",
    "\n",
    "# activate latex text rendering\n",
    "from matplotlib import rc\n",
    "rc('text', usetex=True)"
   ]
  },
  {
   "cell_type": "markdown",
   "metadata": {},
   "source": [
    "## Defining models and using the algorithm presented in Ref [2] "
   ]
  },
  {
   "cell_type": "code",
   "execution_count": null,
   "metadata": {
    "collapsed": false
   },
   "outputs": [],
   "source": [
    "import cumulants # cumulants.py implements the algorithm presented in Ref [2]"
   ]
  },
  {
   "cell_type": "markdown",
   "metadata": {},
   "source": [
    "### A simple model\n",
    "\n",
    "In this script, a model is a dictionary with\n",
    "\n",
    "* keys == edges (tuples of integers)\n",
    "* values == transition rates (symbolic expressions)\n",
    "\n",
    "\n",
    "We start with the definition of simple model on four states with the following topology:\n",
    "\n",
    "```\n",
    "0 – 1\n",
    "| \\ |\n",
    "3 – 2\n",
    "```\n",
    "\n",
    "It features two independent cycles (cf. Ref [1])."
   ]
  },
  {
   "cell_type": "code",
   "execution_count": null,
   "metadata": {
    "collapsed": false
   },
   "outputs": [],
   "source": [
    "# We define the transition rates as symbolic expressions...\n",
    "w01, w10, w02, w20, w03, w30, w12, w21, w23, w32 = \\\n",
    "    symbols(\"w_{01}, w_{10}, w_{02}, w_{20}, w_{03}, w_{30},\"+\\\n",
    "            \"w_{12}, w_{21}, w_{23}, w_{32}\",\\\n",
    "            real=True, positive=True)\n",
    "\n",
    "# ... and specify the model topology as a dictionary\n",
    "\n",
    "model4State = {(0,1): w01, (1,0): w10,\\\n",
    "               (0,2): w02, (2,0): w20,\\\n",
    "               (0,3): w03, (3,0): w30,\\\n",
    "               (1,2): w12, (2,1): w21,\\\n",
    "               (2,3): w23, (3,2): w32 \\\n",
    "               }"
   ]
  },
  {
   "cell_type": "markdown",
   "metadata": {},
   "source": [
    "### Parametrizing the transition rates\n",
    "\n",
    "In our toy model, transitions along the outer edges occur with rate $r$ and $l$ in clockwise and counter-clockwise directions, respectively.\n",
    "\n",
    "For convenience, we will use the substitutions \n",
    "\n",
    "$r = k*\\exp{\\frac{f}{2}}$ and $l=k*\\exp{\\frac{f}{2}}$,\n",
    "\n",
    "which separates the anti-symmetric edge motance $f = \\log{\\frac{r}{l}}$ from the symmetric part $k=\\sqrt{rl}$.\n",
    "\n",
    "Transitions through the edge connecting states $0$ and $2$ have same symmetric part $b*k$, and a potentially different driving field $g$. The positive parameter $b$ can be used to turn off the center transition:\n",
    "\n",
    "$w^0_2 = k*b*\\exp{\\frac{g}{2}}$ and $w^2_0 = k*b*\\exp{\\frac{g}{2}}$\n",
    "\n",
    "As a global factor of the transition matrix, $k$ can be absorbed into the time-scale of the model and we set $k\\equiv 1$.\n"
   ]
  },
  {
   "cell_type": "code",
   "execution_count": null,
   "metadata": {
    "collapsed": false
   },
   "outputs": [],
   "source": [
    "# Define the symbols for parameters, place-holders, etc.\n",
    "\n",
    "b = symbols(\"b\", positive=True)\n",
    "f, g = symbols(\"f, g\", real=True)\n",
    "\n",
    "x, y      = symbols(\"x, y\", real=True)\n",
    "u, v, w   = symbols(\"u, v, w\", positive=True)\n",
    "\n",
    "# symmetric-antisymmetric substitutions\n",
    "onehalf = Rational(1,2)\n",
    "\n",
    "# Generate a substitution list to parametrize the symbolic transition rates\n",
    "\n",
    "rate_cw =  exp(+onehalf*f)\n",
    "rate_ccw = exp(-onehalf*f)\n",
    "\n",
    "# Outer circle, clockwise\n",
    "w01p = rate_cw\n",
    "w12p = rate_cw\n",
    "w23p = rate_cw\n",
    "w30p = rate_cw\n",
    "\n",
    "# Outer circle, counter-clockwise\n",
    "w03p = rate_ccw\n",
    "w32p = rate_ccw\n",
    "w21p = rate_ccw\n",
    "w10p = rate_ccw\n",
    "\n",
    "# Center rates\n",
    "w02p = b*exp(+onehalf*g)  \n",
    "w20p = b*exp(-onehalf*g)\n",
    "\n",
    "# Create the substitution list that gives the parametric dependence of the rates:\n",
    "rates_parametrized = [(w01,w01p),(w10,w10p),(w02,w02p),(w20,w20p),\\\n",
    "           (w12,w12p),(w21,w21p),(w23,w23p),(w32,w32p),(w30,w30p),(w03,w03p)]"
   ]
  },
  {
   "cell_type": "markdown",
   "metadata": {},
   "source": [
    "### Calculating the first and second fundamental cumulants\n",
    "\n",
    "The function `getCumulants(model, chords, rates_params)` from the `cumulants` library takes a dictionary `model` and a corresponding substitution list `rates_params` to calculate the fundamental cumulants specified by the fundamental chords given in `chords`.\n",
    "\n",
    "While some consistency checks are given, you have to be sure that removing the edges contained in `chords` from the graph of the `model` yields a *spanning tree*, see Ref. [1].\n",
    "\n",
    "Here, we chose the edges $(0,1)$ and $(0,2)$ as fundamental chords. The corresponding fundamental cycles are then the outer circuit and the lower half circuit (both in clockwise direction):\n",
    "\n",
    "```\n",
    "0 –> 1\n",
    "|    |   (0,1)  \n",
    "3 –– 2\n",
    "\n",
    "0\n",
    "| \\\n",
    "|  \\     (0,2)  \n",
    "3 – 2\n",
    "```"
   ]
  },
  {
   "cell_type": "code",
   "execution_count": null,
   "metadata": {
    "collapsed": false
   },
   "outputs": [],
   "source": [
    "# calculate the cumulants (this takes only a few seconds)\n",
    "\n",
    "c, C = cumulants.getCumulants( model4State, [(0,1),(0,2)], rates_parametrized)\n"
   ]
  },
  {
   "cell_type": "code",
   "execution_count": null,
   "metadata": {
    "collapsed": false
   },
   "outputs": [],
   "source": [
    "## WARNING: READ BEFORE EXECUTING THIS CELL\n",
    "##\n",
    "## Additional simplifications may help if numerical problems are encountered (e.g. for very stiff rate matrices).\n",
    "## They can be very time-consuming.\n",
    "## Note: The time of simplification steps strongly increases with the number of free symbolic parameters\n",
    "## \n",
    "## For the present example, they are NOT needed!\n",
    "## \n",
    "\n",
    "\n",
    "t0 = time.time() # Time the simplification steps\n",
    "\n",
    "c = simplify(factor(c))\n",
    "C = factor(simplify(C))\n",
    "\n",
    "display(time.time() - t0)"
   ]
  },
  {
   "cell_type": "markdown",
   "metadata": {},
   "source": [
    "### Observables\n",
    "The fundamental cumulants regard the counting statistics along the fundamental chords. As shown in Ref. [1], this is sufficient in order to determine the counting statistics of arbitrary observables.\n",
    "\n",
    "In the following we consider three observables:\n",
    "\n",
    "1. The current flowing in the top edge (fundamental chord  $(0,1)$, i.e. `c[0]`).\n",
    "2. The current through the center edge (fundamental chord  $(0,2)$, i.e. `c[1]`). \n",
    "3. The entropy production of the whole network\n",
    "\n",
    "The entropy production is an observable that takes the value $\\log{\\frac{w_{\\rightarrow}}{w_{\\leftarrow}}}$ on each edge, where $w_{\\rightarrow}$ and $w_{\\leftarrow}$ are the corresponding forward and backward rates. The generalized Schnakenberg decomposition (cf. Ref [1]) ensures that for the calculation of the entropy statistics, we only need the affinities of the fundamental cycles.\n",
    "\n"
   ]
  },
  {
   "cell_type": "code",
   "execution_count": null,
   "metadata": {
    "collapsed": false
   },
   "outputs": [],
   "source": [
    "## Calculate cycle affinities:\n",
    "\n",
    "# First fundamental cycle (for chord $(0,1)$): (0,1,2,3):\n",
    "aff0 = simplify((log((w01*w12*w23*w30)/(w10*w21*w32*w03))).subs(rates_parametrized))\n",
    "# Second fundamental cycle (for chord $(0,2)$ (0,2,3):\n",
    "aff1 = simplify((log((w02*w23*w30)/(w03*w32*w20))).subs(rates_parametrized))\n",
    "\n",
    "# affinities should be $4f$ and $2f+g$, respectively:\n",
    "display((aff0,aff1))\n",
    "\n",
    "## Define expressions for quantities of interest\n",
    "\n",
    "topc = c[0] # average current through top edge\n",
    "cenc = c[1] # average current through center edge\n",
    "\n",
    "ep = simplify(c[0]*aff0 + c[1]*aff1) # entropy production\n",
    "\n",
    "topd = onehalf*C[0,0] # two times variance yields diffusion constants\n",
    "cend = onehalf*C[1,1]\n",
    "\n",
    "cov = C[0,1] #co-variance of both currents\n",
    "\n",
    "res = 2*c[0].diff(f)/C[0,0] # response of top current to the driving affinity $f$ divided by top diffusion constant\n",
    "#res = simplify(res) "
   ]
  },
  {
   "cell_type": "markdown",
   "metadata": {
    "collapsed": false
   },
   "source": [
    "### Exploring the parameter dependence\n",
    "\n",
    "Our model depends on three symbolic parameters: $(f,g,b)$\n"
   ]
  },
  {
   "cell_type": "code",
   "execution_count": null,
   "metadata": {
    "collapsed": false
   },
   "outputs": [],
   "source": [
    "# Show some analytical expressions for...\n",
    "\n",
    "# ...top and center average currents\n",
    "display('Average currents')\n",
    "display(topc)\n",
    "display(cenc)\n",
    "\n",
    "# ...entropy production\n",
    "display('Entropy production')\n",
    "display(ep)\n",
    "\n",
    "## ...diffusion constants and response (WARNING: these are longish expressions...)\n",
    "#display('Diffusion constants')\n",
    "#display(topd)\n",
    "#display(cend)\n",
    "\n",
    "#display('Normalized response')\n",
    "#display(res)"
   ]
  },
  {
   "cell_type": "markdown",
   "metadata": {},
   "source": [
    "### Plotting\n",
    "\n",
    "Efficient (and numerically stable) plotting requires us to transform symbolic expressions into lambda functions (using the method `lambdify()`). The lambda functions are used to evaluate the expressions on a grid.\n",
    "\n",
    "**NOTE:** `lambdify()` has problems with symbolic expressions that have $\\LaTeX$ commands as their representations.\n",
    "If you use something like \n",
    "```\n",
    "eps = symbols('\\\\varepsilon')\n",
    "```\n",
    "`lambdify()` may not work and you have to substitute the $\\LaTeX$-style expressions by other (dummy) variables."
   ]
  },
  {
   "cell_type": "code",
   "execution_count": null,
   "metadata": {
    "collapsed": false
   },
   "outputs": [],
   "source": [
    "## Lambdify all SymPy expressions into NumPy Expressions\n",
    "topcL, cencL, epL, topdL, cendL, covL, resL\\\n",
    "    = [ lambdify( (f,g,b), N(thing), \"numpy\" )\\\n",
    "        for thing in ( topc, cenc, ep, topd, cend, cov, res\\\n",
    "        ) ]"
   ]
  },
  {
   "cell_type": "code",
   "execution_count": null,
   "metadata": {
    "collapsed": false
   },
   "outputs": [],
   "source": [
    "## Prepare 2D plotting range\n",
    "\n",
    "from pylab import meshgrid,cm,imshow,contour,clabel,colorbar,axis,title,show\n",
    "\n",
    "# prepare the plotting grid\n",
    "[xmin, xmax, ymin, ymax] = [-10,10,.01,20] # boundaries of the grid\n",
    "resolution = 400 # plot resolution\n",
    "\n",
    "plotarea = [xmin, xmax, ymin, ymax] # full plotarea\n",
    "\n",
    "# prepare the plotting grid for kinesin 6 figures\n",
    "xpts = linspace(xmin, xmax, resolution)\n",
    "ypts = linspace(ymin, ymax, resolution)\n",
    "X, Y  = meshgrid(xpts, ypts)"
   ]
  },
  {
   "cell_type": "code",
   "execution_count": null,
   "metadata": {
    "collapsed": false
   },
   "outputs": [],
   "source": [
    "## General setup for figures\n",
    "\n",
    "fig_size = (6,5) # in inch\n",
    "fs = 22 # font size\n",
    "colormap1 = cm.gist_earth # linear color gradient (blue) for densityplots\n",
    "colormap2 = cm.coolwarm # color gradient (red-white-blue) for densityplots with highlighted center\n",
    "\n",
    "# font setup\n",
    "font = {'family' : 'serif',\n",
    "        'color'  : 'black',\n",
    "        'weight' : 'normal',\n",
    "        'size'   : fs,\n",
    "        }\n",
    "\n",
    "ts = 16 # tick+contour label size\n",
    "\n",
    "figdir = \"toymodel/\"\n",
    "\n",
    "## This function takes a lambda function and creates a (logarithmic) 2D plot\n",
    "##  g: lambda function with *exactly two* arguments\n",
    "##  t: title string\n",
    "##  x,y: x and y axis strings\n",
    "##  logplot: flag whether to plot in logscale or not\n",
    "##  crop: min/max values\n",
    "\n",
    "def pplot(g, t, x='', y='', logplot=True, highlight=0, crop=[]):\n",
    "    fig = figure(figsize=fig_size)\n",
    "    \n",
    "    if(logplot):\n",
    "        G = np.log(np.abs(g(X,Y)))/np.log(10)\n",
    "        GG = g(X,Y)\n",
    "        ccmm = colormap1\n",
    "    else:\n",
    "        G = g(X,Y)\n",
    "        GG = G\n",
    "        ccmm = colormap2\n",
    "\n",
    "    # the slicing parameter [::-1] reverses the y-axis before plotting\n",
    "    \n",
    "    im = imshow( G[::-1], cmap=ccmm, extent=plotarea ) # drawing the function\n",
    "    if(len(crop)==2):\n",
    "        im.set_clim(vmin=crop[0], vmax=crop[1])\n",
    "        \n",
    "    # adding the contour lines with labels\n",
    "    cset1    = contour( X,Y, G, arange(-20,20,1),linewidths=1,linestyles=\"-\",colors='black')\n",
    "    stalling = contour( X,Y, GG,    [highlight], linewidths=3,linestyles=\"-\",colors='white')\n",
    "    \n",
    "    # adding the colorbar on the right\n",
    "    cb = colorbar(im)\n",
    "    \n",
    "    # latex fashion title\n",
    "    title(t, fontdict=font)\n",
    "    xlabel(x, fontdict=font)\n",
    "    ylabel(y, fontdict=font)\n",
    "    \n",
    "    # Set tick label size\n",
    "    tick_params(axis='both', which='major', labelsize=ts )\n",
    "\n",
    "    #savefig(figdir+t+\".png\")\n",
    "    return(fig)\n"
   ]
  },
  {
   "cell_type": "code",
   "execution_count": null,
   "metadata": {
    "collapsed": false
   },
   "outputs": [],
   "source": [
    "## NOTE: Our lambda functions take three parameters (f,g,b).\n",
    "## For plotting, we need to define a new anonymous lambda function, that takes only two parameters\n",
    "\n",
    "# Currents and EP depending on two forces f,g with same symmetric contribution on the center edge\n",
    "pplot(lambda f,g: topcL(f,g,1),\"Average current through top edge (log scale)\",'$f$','$g$')\n",
    "pplot(lambda f,g: cencL(f,g,1),\"Average current through center edge (log scale)\",'$f$','$g$')\n",
    "pplot(lambda f,g: epL(f,g,1),\"Steady state entropy production (log scale)\",'$f$','$g$')\n",
    "\n",
    "# Currents and EP depending on one force f=g while increasing strength of center edge\n",
    "pplot(lambda f,b: topcL(f,f,b),\"Average current through top edge (log scale)\",'$f$','$b$')\n",
    "pplot(lambda f,b: cencL(f,f,b),\"Average current through center edge (log scale)\",'$f$','$b$')\n",
    "pplot(lambda f,b: epL(f,f,b),\"Steady state entropy production (log scale)\",'$f$','$b$')\n",
    "\n",
    "print(\"Done\")"
   ]
  },
  {
   "cell_type": "code",
   "execution_count": null,
   "metadata": {
    "collapsed": false
   },
   "outputs": [],
   "source": [
    "# Diffusion constant and normalized response depending on two forces f,g with same symmetric contribution on the center edge\n",
    "pplot(lambda f,g: topdL(f,g,1),\"Diffusion top edge (log scale)\",'$f$','$g$')\n",
    "pplot(lambda f,g: cendL(f,g,1),\"Diffusion center edge (log scale)\",'$f$','$g$')\n",
    "pplot(lambda f,g: resL(f,g,1),\"Normalized $f$-response in top edge\",'$f$','$g$', False)\n",
    "\n",
    "# Diffusion constant and normalized response  depending on one force f=g while increasing strength of center edge\n",
    "pplot(lambda f,b: topdL(f,f,b),\"Average current through top edge (log scale)\",'$f$','$b$')\n",
    "pplot(lambda f,b: cendL(f,f,b),\"Average current through center edge (log scale)\",'$f$','$b$')\n",
    "pplot(lambda f,b: resL(f,f,b),\"Normalized $f$-response in top edge\",'$f$','$b$', False)\n",
    "\n",
    "print(\"Done\")"
   ]
  },
  {
   "cell_type": "code",
   "execution_count": null,
   "metadata": {
    "collapsed": true
   },
   "outputs": [],
   "source": []
  },
  {
   "cell_type": "code",
   "execution_count": null,
   "metadata": {
    "collapsed": true
   },
   "outputs": [],
   "source": []
  }
 ],
 "metadata": {
  "kernelspec": {
   "display_name": "Python 3",
   "language": "python",
   "name": "python3"
  },
  "language_info": {
   "codemirror_mode": {
    "name": "ipython",
    "version": 3
   },
   "file_extension": ".py",
   "mimetype": "text/x-python",
   "name": "python",
   "nbconvert_exporter": "python",
   "pygments_lexer": "ipython3",
   "version": "3.4.3+"
  }
 },
 "nbformat": 4,
 "nbformat_minor": 0
}
