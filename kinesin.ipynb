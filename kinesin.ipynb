{
 "cells": [
  {
   "cell_type": "markdown",
   "metadata": {},
   "source": [
    "# Script for the analysis of kinesin models (See Ref. [1])"
   ]
  },
  {
   "cell_type": "markdown",
   "metadata": {},
   "source": [
    "## References\n",
    "\n",
    "[1] Fluctuating Currents in Stochastic Thermodynamics II. Energy Conversion and Nonequilibrium Response in Kinesin Models. Altaner, Wachtel and Vollmer (2015)\n",
    "\n",
    "[2] Non-equilibrium fluctuations and mechanochemical couplings of a molecular motor. Lau, Lacoste, and Mallick, Phys. Rev. Lett., 99, 158102 (2007)\n",
    "\n",
    "[3] Kinesin's Network of Chemomechanical Motor Cycles. Liepelt and Lipowsky. Phys. Rev. Lett. 98, 258102 (2007)"
   ]
  },
  {
   "cell_type": "markdown",
   "metadata": {},
   "source": [
    "## Set-up jupyter (ipython-notebook) and sympy libraries"
   ]
  },
  {
   "cell_type": "code",
   "execution_count": null,
   "metadata": {
    "collapsed": false
   },
   "outputs": [],
   "source": [
    "# inline plotting/interaction\n",
    "%pylab inline \n",
    "\n",
    "from sympy import * # symbolic python\n",
    "init_printing() # pretty printing\n",
    "\n",
    "import numpy as np # numeric python\n",
    "\n",
    "import time # timing, for performance monitoring\n",
    "\n",
    "# activate latex text rendering\n",
    "from matplotlib import rc\n",
    "rc('text', usetex=True)\n",
    "\n",
    "# use matplotlib for plotting\n",
    "import matplotlib.pyplot as plt \n",
    "from pylab import meshgrid,cm,imshow,contour,clabel,colorbar,axis,title,show"
   ]
  },
  {
   "cell_type": "markdown",
   "metadata": {},
   "source": [
    "## Initialize the kinesin model(s)"
   ]
  },
  {
   "cell_type": "markdown",
   "metadata": {},
   "source": [
    "### Overview of libraries:\n",
    "\n",
    "* *models.py*: contains the information about several kinesin models\n",
    "* *cumulants.py*: implements the algorithm described in [1]\n",
    "* *lambdification.py*: simplifies and transforms sympy expressions obtained for the models to lambda functions which are used to calculate numerical values\n"
   ]
  },
  {
   "cell_type": "code",
   "execution_count": null,
   "metadata": {
    "collapsed": true
   },
   "outputs": [],
   "source": [
    "# The lambda functions for the expressions discussed and analyzed in Ref. [1]\n",
    "from lambdification import lau, ll "
   ]
  },
  {
   "cell_type": "code",
   "execution_count": null,
   "metadata": {
    "collapsed": true
   },
   "outputs": [],
   "source": [
    "# velocity, diffusion and normalized mechanical response for the kinesin model of Ref. [2]\n",
    "velocityLa, diffusionLa, tmechLa = lau() # "
   ]
  },
  {
   "cell_type": "code",
   "execution_count": null,
   "metadata": {
    "collapsed": false
   },
   "outputs": [],
   "source": [
    "# velocity, hydrolysis rate, etc. for the 6-state [3] and 4-state [2] kinesin models\n",
    "# NOTE: quick=False yields expressions that are numerically more stable, but take much more time and memory\n",
    "vel6, hyd6, dif6, coupling6, invfano6, tmech6, \\\n",
    "vel4, hyd4, dif4, coupling4, invfano4, tmech4, \\\n",
    "vel_relerr, hyd_relerr, dif_relerr = ll(quick=True) "
   ]
  },
  {
   "cell_type": "markdown",
   "metadata": {},
   "source": [
    "## Set-up plot range and resolution"
   ]
  },
  {
   "cell_type": "markdown",
   "metadata": {},
   "source": [
    "### Full parameter space (Figs. 5 -- 9 in Ref. [1])"
   ]
  },
  {
   "cell_type": "code",
   "execution_count": null,
   "metadata": {
    "collapsed": false
   },
   "outputs": [],
   "source": [
    "[fmin, fmax, mumin, mumax] = [-30,30,-30,30] # boundaries of full phase diagram\n",
    "resolution = 400 # plot resolution\n",
    "\n",
    "plotarea = [fmin, fmax, mumin, mumax] # full plotarea\n",
    "\n",
    "# prepare the plotting grid for kinesin 6 figures\n",
    "xpts = linspace(fmin, fmax, resolution)\n",
    "ypts = linspace(mumin, mumax, resolution)\n",
    "X, Y  = meshgrid(xpts, ypts)\n"
   ]
  },
  {
   "cell_type": "markdown",
   "metadata": {},
   "source": [
    "### Zoomed parameter space (Fig. 10 in Ref [1])"
   ]
  },
  {
   "cell_type": "code",
   "execution_count": null,
   "metadata": {
    "collapsed": false
   },
   "outputs": [],
   "source": [
    "[fmin, fmax, mumin, mumax] = [0,20,5,30] # boundaries of zoomed phase diagram\n",
    "resolution = 400 # plot resolution\n",
    "\n",
    "zoomarea = [fmin, fmax, mumin, mumax] # zoomed plotarea\n",
    "\n",
    "# prepare the plotting grid for kinesin 6 figures\n",
    "xpts = linspace(fmin, fmax, resolution)\n",
    "ypts = linspace(mumin, mumax, resolution)\n",
    "XX, YY  = meshgrid(xpts, ypts)\n"
   ]
  },
  {
   "cell_type": "markdown",
   "metadata": {},
   "source": [
    "## Use the lambda functions to create data arrays\n",
    "Lambda function evaluate the expressions at every point in the plotting grid"
   ]
  },
  {
   "cell_type": "code",
   "execution_count": null,
   "metadata": {
    "collapsed": false
   },
   "outputs": [],
   "source": [
    "# Full plot area\n",
    "V6     = vel6(X,Y)\n",
    "log_V6 = (np.log( np.abs( V6 ))/np.log(10))\n",
    "H6     = hyd6(X,Y)\n",
    "log_H6 = (np.log( np.abs( H6 ))/np.log(10))\n",
    "D6     = dif6(X,Y)\n",
    "log_D6 = (np.log( np.abs( D6 ))/np.log(10))\n",
    "QTC6   = coupling6(X,Y)\n",
    "F6     = invfano6(X,Y)\n",
    "T6     = tmech6(X,Y)\n",
    "\n",
    "V_relerr = vel_relerr(X,Y)\n",
    "H_relerr = hyd_relerr(X,Y)\n",
    "D_relerr = dif_relerr(X,Y)"
   ]
  },
  {
   "cell_type": "code",
   "execution_count": null,
   "metadata": {
    "collapsed": false
   },
   "outputs": [],
   "source": [
    "# Zoomed plot area (comparison plot Fig. 10)\n",
    "VLa_comp = velocityLa(XX,YY)\n",
    "TLa_comp = tmechLa(XX,YY)\n",
    "\n",
    "V6_comp = vel6(XX,YY)\n",
    "T6_comp = tmech6(XX,YY)"
   ]
  },
  {
   "cell_type": "markdown",
   "metadata": {},
   "source": [
    "## General Figure Settings"
   ]
  },
  {
   "cell_type": "code",
   "execution_count": null,
   "metadata": {
    "collapsed": false
   },
   "outputs": [],
   "source": [
    "## Setup for Figures (for instance for talks, slides, posters)\n",
    "\n",
    "fig_size = (12,10) # in inch\n",
    "fs = 25 # font size\n",
    "\n",
    "font = {'family' : 'serif',\n",
    "        'color'  : 'black',\n",
    "        'weight' : 'normal',\n",
    "        'size'   : fs,\n",
    "        }\n",
    "\n",
    "figdir = \"plotdata/\"\n",
    "\n",
    "def pplot(g, t, logplot=True, highlight=0, crop=[], numerical=False):\n",
    "    fig = figure(figsize=fig_size)\n",
    "    \n",
    "    if(numerical):\n",
    "        G = g\n",
    "        GG = G\n",
    "        ccmm = cm.YlOrBr\n",
    "    elif(logplot):\n",
    "        G = np.log(np.abs(g(X,Y)))/np.log(10)\n",
    "        GG = g(X,Y)\n",
    "        ccmm = cm.gist_earth\n",
    "    else:\n",
    "        G = g(X,Y)\n",
    "        GG = G\n",
    "        ccmm = cm.coolwarm\n",
    "\n",
    "    # the slicing parameter [::-1] reverses the y-axis before plotting\n",
    "    \n",
    "    im = imshow( G[::-1], cmap=ccmm, extent=plotarea ) # drawing the function\n",
    "    if(len(crop)==2):\n",
    "        im.set_clim(vmin=crop[0], vmax=crop[1])\n",
    "        \n",
    "    # adding the Contour lines with labels\n",
    "    if( not numerical):\n",
    "        cset1    = contour( X,Y, G, arange(-20,20,1),linewidths=1,linestyles=\"-\",colors='black')\n",
    "        stalling = contour( X,Y, GG,    [highlight], linewidths=3,linestyles=\"-\",colors='white')\n",
    "    \n",
    "    # adding the colobar on the right\n",
    "    cb = colorbar(im)\n",
    "    \n",
    "    # latex fashion title\n",
    "    title(t, fontdict=font)\n",
    "    xlabel('$f$', fontdict=font)\n",
    "    ylabel(r'$\\Delta \\mu$', fontdict=font) # r'\\newcommand' is a raw python string, meaning \\n is not replaced by a newline, etc.\n",
    "    \n",
    "    #savefig(figdir+t+\".png\")\n",
    "    return(fig)\n"
   ]
  },
  {
   "cell_type": "markdown",
   "metadata": {},
   "source": [
    "## Create some actual plots"
   ]
  },
  {
   "cell_type": "markdown",
   "metadata": {},
   "source": [
    "### Six-state model of Ref [2]"
   ]
  },
  {
   "cell_type": "code",
   "execution_count": null,
   "metadata": {
    "collapsed": false,
    "scrolled": false
   },
   "outputs": [],
   "source": [
    "# Some exemplary figures\n",
    "\n",
    "pplot(vel6,\"Velocity 6-state (Fig. 5b)\", crop=[-20,2])\n",
    "pplot(dif6,\"Diffusion 6-state (Fig. 7a)\", crop=[-20,2])\n",
    "pplot(coupling6,\"Current ratio 6-state (Fig. 5c)\",logplot=False, crop=[-2,2], highlight=1)\n",
    "pplot(tmech6,\"Mechanical Response 6-state (Fig. 8)\",logplot=False, crop=[-2,2],highlight=1)\n",
    "\n",
    "# Efficiency of energy conversion, see Fig. 6\n",
    "P_mech = X*vel6(X,Y) # mechanical power\n",
    "P_chem = Y*hyd6(X,Y) # chemical power\n",
    "\n",
    "inversion = np.sign(P_mech)*np.sign(P_chem)\n",
    "eff = P_mech/P_chem\n",
    "EFF = np.minimum((eff)**inversion,(eff)**(-inversion))\n",
    "\n",
    "pplot(EFF,\"Efficiency\",crop=[0,1],numerical=True)\n",
    "print(\"Done\")"
   ]
  },
  {
   "cell_type": "markdown",
   "metadata": {},
   "source": [
    "### Corresponding plots in four-state model of Ref [1] (Figures are not in the paper, only relative errors are shown in Fig. 9)"
   ]
  },
  {
   "cell_type": "code",
   "execution_count": null,
   "metadata": {
    "collapsed": false
   },
   "outputs": [],
   "source": [
    "pplot(vel4,\"Velocity 4-state\", crop=[-20,2])\n",
    "pplot(dif4,\"Diffusion 4-state\", crop=[-20,2])\n",
    "pplot(coupling4,\"Current ratio 4-state\",logplot=False, crop=[-2,2], highlight=1)\n",
    "pplot(tmech4,\"Normalized mechanical response 4-state\",logplot=False, crop=[-2,2],highlight=1)\n",
    "print(\"Done\")"
   ]
  },
  {
   "cell_type": "markdown",
   "metadata": {
    "collapsed": false
   },
   "source": [
    "### Some plots for the model of Ref [3] (Note the deviation to the models above in physically unrealistic parameter regions)"
   ]
  },
  {
   "cell_type": "code",
   "execution_count": null,
   "metadata": {
    "collapsed": false
   },
   "outputs": [],
   "source": [
    "pplot(velocityLa,\"Velocity Lau et. al. (2007)\", crop=[-20,2])\n",
    "pplot(diffusionLa,\"Diffusion Lau et. al. (2007)\", crop=[-20,2])\n",
    "pplot(tmechLa,\"Mechanical Response Lau et. al. (2007)\",logplot=False, crop=[-2,2],highlight=1)\n",
    "print(\"Done\")"
   ]
  },
  {
   "cell_type": "markdown",
   "metadata": {
    "collapsed": false
   },
   "source": [
    "### Code that generates Fig. 10 in Ref. [1]"
   ]
  },
  {
   "cell_type": "code",
   "execution_count": null,
   "metadata": {
    "collapsed": false
   },
   "outputs": [],
   "source": [
    "# Colors\n",
    "tango_chameleon3 = \"#4e9a06\"\n",
    "tango_sky3 = \"#204a87\"\n",
    "\n",
    "#Fonts\n",
    "overlay = {'family' : 'serif',\n",
    "        'color'  : 'white',\n",
    "        'weight' : 'normal',\n",
    "        'size'   : 55,\n",
    "        }\n",
    "\n",
    "a=1.5 # scaling factor: figure size/font size\n",
    "\n",
    "f = figure(figsize=(3.5*a,1.8*a))\n",
    "gs = GridSpec(100,100)\n",
    "\n",
    "\n",
    "axLL = f.add_subplot(gs[:,0:43])\n",
    "im = axLL.imshow( T6_comp[::-1], cmap=cm.coolwarm, extent=zoomarea, aspect=1 ) # drawing the function\n",
    "# adding the Contour lines with labels\n",
    "stalling = contour( XX,YY, V6_comp, [0], linewidths=1.4,linestyles=\"-\",colors='white')\n",
    "\n",
    "FDR = contour( XX,YY, T6_comp , [1], linewidths=1,linestyles=\"--\",colors=tango_chameleon3)\n",
    "for c in FDR.collections:\n",
    "    c.set_dashes([(0, (6, 3))])\n",
    "NDR = contour( XX,YY, T6_comp , [0], linewidths=1,linestyles=\"--\",colors=tango_sky3)\n",
    "for c in NDR.collections:\n",
    "    c.set_dashes([(0, (1.0, 1.0))])\n",
    "\n",
    "#axLL.set_title(r'Liepelt, Lipowsky,' '\\n' r'Phys. Rev. Lett. \\textbf{98} (2007)', fontsize=5)\n",
    "text(.5, 27, r\"Liepelt \\& Lipowsky\" '\\n' r\"Phys.~Rev.~Lett.~\\textbf{98} (2007)\", fontdict=overlay,fontsize=6,color='black')  # u'Unícôdè ∫triŋs'\n",
    "\n",
    "\n",
    "xlabel('$f$', labelpad = 2)\n",
    "ylabel(r'$\\Delta\\mu$', labelpad=2) #labelpad: move label closer to axis\n",
    "\n",
    "im.set_clim(vmin=-2, vmax=2)\n",
    "\n",
    "\n",
    "axLa = f.add_subplot(gs[:,32:100])\n",
    "im = axLa.imshow( TLa_comp [::-1], cmap=cm.coolwarm, extent=zoomarea, aspect=1 ) # drawing the function\n",
    "# adding the Contour lines with labels\n",
    "stalling = contour( XX,YY, VLa_comp, [0], linewidths=1.4,linestyles=\"-\",colors='white')\n",
    "FDR = contour( XX,YY, TLa_comp , [1], linewidths=1,linestyles=\"--\",colors=tango_chameleon3)\n",
    "for c in FDR.collections:\n",
    "    c.set_dashes([(0, (6, 3))])\n",
    "NDR = contour( XX,YY, TLa_comp , [0], linewidths=1,linestyles=\"--\",colors=tango_sky3)\n",
    "for c in NDR.collections:\n",
    "    c.set_dashes([(0, (1.0, 1.0))])\n",
    "text(.5, 27, r\"Lau, Lacoste \\& Mallick\" '\\n' r\"Phys.~Rev.~Lett.~\\textbf{99} (2007)\", fontdict=overlay,fontsize=6,color='black')  # u'Unícôdè ∫triŋs'\n",
    "\n",
    "## Modify labels\n",
    "setp( axLa.get_yticklabels(), visible=False) # hide y labels on La plot\n",
    "#axLa.set_xticks(arange(5,25,5)) # don't display zero\n",
    "axLL.set_xticks(arange(0,20,5)) # don't display \"20\"\n",
    "\n",
    "xlabel('$f$', labelpad = 2)\n",
    "im.set_clim(vmin=-2, vmax=2)\n",
    "\n",
    "\n",
    "cb=colorbar(im,ticks=arange(-2,2.1,.5))"
   ]
  },
  {
   "cell_type": "code",
   "execution_count": null,
   "metadata": {
    "collapsed": true
   },
   "outputs": [],
   "source": []
  }
 ],
 "metadata": {
  "kernelspec": {
   "display_name": "Python 3",
   "language": "python",
   "name": "python3"
  },
  "language_info": {
   "codemirror_mode": {
    "name": "ipython",
    "version": 3
   },
   "file_extension": ".py",
   "mimetype": "text/x-python",
   "name": "python",
   "nbconvert_exporter": "python",
   "pygments_lexer": "ipython3",
   "version": "3.4.3+"
  }
 },
 "nbformat": 4,
 "nbformat_minor": 0
}
